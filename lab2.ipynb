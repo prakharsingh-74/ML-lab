{
 "cells": [
  {
   "cell_type": "code",
   "execution_count": 1,
   "metadata": {},
   "outputs": [],
   "source": [
    "import numpy as np\n",
    "import pandas as pd"
   ]
  },
  {
   "cell_type": "code",
   "execution_count": 3,
   "metadata": {},
   "outputs": [],
   "source": [
    "data = [\n",
    "    [\"Young\", \"High\", \"No\", \"Fair\", \"No\"],\n",
    "    [\"Young\", \"High\", \"No\", \"Excellent\", \"No\"],\n",
    "    [\"Middle\", \"High\", \"No\", \"Fair\", \"Yes\"],\n",
    "    [\"Senior\", \"Medium\", \"No\", \"Fair\", \"Yes\"],\n",
    "    [\"Senior\", \"Low\", \"Yes\", \"Fair\", \"Yes\"],\n",
    "    [\"Senior\", \"Low\", \"Yes\", \"Excellent\", \"No\"],\n",
    "    [\"Middle\", \"Low\", \"Yes\", \"Excellent\", \"Yes\"],\n",
    "    [\"Young\", \"Medium\", \"No\", \"Fair\", \"No\"]\n",
    "]"
   ]
  },
  {
   "cell_type": "code",
   "execution_count": 4,
   "metadata": {},
   "outputs": [],
   "source": [
    "columns = [\"Age\", \"Income\", \"Student\", \"Credit\", \"BuyCar\"]\n",
    "df = pd.DataFrame(data, columns=columns)"
   ]
  },
  {
   "cell_type": "code",
   "execution_count": null,
   "metadata": {},
   "outputs": [],
   "source": [
    "def find_s_algorithm(df):\n",
    "    #  positive examples\n",
    "    positive_examples = df[df[\"BuyCar\"] == \"Yes\"].iloc[:, :-1].values\n",
    "    \n",
    "    # Initialize hypothesis with the first positive example\n",
    "    hypothesis = positive_examples[0].copy()\n",
    "    \n",
    "    # Iterate over the remaining positive examples\n",
    "    for example in positive_examples[1:]:\n",
    "        for i in range(len(hypothesis)):\n",
    "            if hypothesis[i] != example[i]:  # Generalize if different\n",
    "                hypothesis[i] = \"?\"\n",
    "    \n",
    "    return hypothesis"
   ]
  },
  {
   "cell_type": "code",
   "execution_count": 6,
   "metadata": {},
   "outputs": [
    {
     "name": "stdout",
     "output_type": "stream",
     "text": [
      "Final Hypothesis: ['?' '?' '?' '?']\n"
     ]
    }
   ],
   "source": [
    "final_hypothesis = find_s_algorithm(df)\n",
    "print(\"Final Hypothesis:\", final_hypothesis)"
   ]
  },
  {
   "cell_type": "code",
   "execution_count": null,
   "metadata": {},
   "outputs": [],
   "source": []
  }
 ],
 "metadata": {
  "kernelspec": {
   "display_name": "venv",
   "language": "python",
   "name": "python3"
  },
  "language_info": {
   "codemirror_mode": {
    "name": "ipython",
    "version": 3
   },
   "file_extension": ".py",
   "mimetype": "text/x-python",
   "name": "python",
   "nbconvert_exporter": "python",
   "pygments_lexer": "ipython3",
   "version": "3.12.5"
  }
 },
 "nbformat": 4,
 "nbformat_minor": 2
}
