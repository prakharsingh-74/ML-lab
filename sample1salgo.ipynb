{
 "cells": [
  {
   "cell_type": "code",
   "execution_count": 1,
   "metadata": {},
   "outputs": [],
   "source": [
    "import numpy as np\n",
    "import pandas as pd"
   ]
  },
  {
   "cell_type": "code",
   "execution_count": 5,
   "metadata": {},
   "outputs": [
    {
     "data": {
      "text/html": [
       "<div>\n",
       "<style scoped>\n",
       "    .dataframe tbody tr th:only-of-type {\n",
       "        vertical-align: middle;\n",
       "    }\n",
       "\n",
       "    .dataframe tbody tr th {\n",
       "        vertical-align: top;\n",
       "    }\n",
       "\n",
       "    .dataframe thead th {\n",
       "        text-align: right;\n",
       "    }\n",
       "</style>\n",
       "<table border=\"1\" class=\"dataframe\">\n",
       "  <thead>\n",
       "    <tr style=\"text-align: right;\">\n",
       "      <th></th>\n",
       "      <th>Sunny</th>\n",
       "      <th>Warm</th>\n",
       "      <th>Normal</th>\n",
       "      <th>Strong</th>\n",
       "      <th>Warm.1</th>\n",
       "      <th>Same</th>\n",
       "      <th>Yes</th>\n",
       "    </tr>\n",
       "  </thead>\n",
       "  <tbody>\n",
       "    <tr>\n",
       "      <th>0</th>\n",
       "      <td>Sunny</td>\n",
       "      <td>Warm</td>\n",
       "      <td>High</td>\n",
       "      <td>Strong</td>\n",
       "      <td>Warm</td>\n",
       "      <td>Same</td>\n",
       "      <td>Yes</td>\n",
       "    </tr>\n",
       "    <tr>\n",
       "      <th>1</th>\n",
       "      <td>Rainy</td>\n",
       "      <td>Cold</td>\n",
       "      <td>High</td>\n",
       "      <td>Strong</td>\n",
       "      <td>Warm</td>\n",
       "      <td>Change</td>\n",
       "      <td>No</td>\n",
       "    </tr>\n",
       "    <tr>\n",
       "      <th>2</th>\n",
       "      <td>Sunny</td>\n",
       "      <td>Warm</td>\n",
       "      <td>High</td>\n",
       "      <td>Strong</td>\n",
       "      <td>Cool</td>\n",
       "      <td>Change</td>\n",
       "      <td>Yes</td>\n",
       "    </tr>\n",
       "  </tbody>\n",
       "</table>\n",
       "</div>"
      ],
      "text/plain": [
       "   Sunny  Warm Normal  Strong Warm.1    Same  Yes\n",
       "0  Sunny  Warm   High  Strong   Warm    Same  Yes\n",
       "1  Rainy  Cold   High  Strong   Warm  Change   No\n",
       "2  Sunny  Warm   High  Strong   Cool  Change  Yes"
      ]
     },
     "execution_count": 5,
     "metadata": {},
     "output_type": "execute_result"
    }
   ],
   "source": [
    "df = pd.read_csv(r'E:/ML lab/finds-sample1.csv')\n",
    "df"
   ]
  },
  {
   "cell_type": "code",
   "execution_count": 8,
   "metadata": {},
   "outputs": [],
   "source": [
    "columns = [\"Sky\", \"Temp\", \"Humidity\", \"Wind\", \"Water\", \"Forecast\", \"PlayTennis\"]\n",
    "df = pd.DataFrame(df, columns=columns)"
   ]
  },
  {
   "cell_type": "code",
   "execution_count": 14,
   "metadata": {},
   "outputs": [],
   "source": [
    "def find_s(dataset):\n",
    "    # Extract positive examples (where PlayTennis == \"Yes\")\n",
    "    positive_examples = dataset[dataset[\"PlayTennis\"] == \"Yes\"].iloc[:, :-1].values\n",
    "    \n",
    "    # Check if any positive examples exist\n",
    "    if len(positive_examples) == 0:\n",
    "        raise ValueError(\"No positive examples found. Check dataset filtering.\")\n",
    "\n",
    "    # Initialize hypothesis with the first positive example\n",
    "    hypothesis = np.array(positive_examples[0])\n",
    "\n",
    "    # Iterate over remaining positive examples\n",
    "    for example in positive_examples[1:]:\n",
    "        for i in range(len(hypothesis)):\n",
    "            if example[i] != hypothesis[i]:  \n",
    "                hypothesis[i] = \"?\"  # Generalize\n",
    "\n",
    "    return hypothesis"
   ]
  },
  {
   "cell_type": "code",
   "execution_count": 16,
   "metadata": {},
   "outputs": [
    {
     "ename": "ValueError",
     "evalue": "No positive examples found. Check dataset filtering.",
     "output_type": "error",
     "traceback": [
      "\u001b[1;31m---------------------------------------------------------------------------\u001b[0m",
      "\u001b[1;31mValueError\u001b[0m                                Traceback (most recent call last)",
      "Cell \u001b[1;32mIn[16], line 2\u001b[0m\n\u001b[0;32m      1\u001b[0m \u001b[38;5;66;03m# Run Find-S\u001b[39;00m\n\u001b[1;32m----> 2\u001b[0m final_hypothesis \u001b[38;5;241m=\u001b[39m \u001b[43mfind_s\u001b[49m\u001b[43m(\u001b[49m\u001b[43mdf\u001b[49m\u001b[43m)\u001b[49m\n\u001b[0;32m      4\u001b[0m \u001b[38;5;66;03m# Print Final Hypothesis\u001b[39;00m\n\u001b[0;32m      5\u001b[0m \u001b[38;5;28mprint\u001b[39m(\u001b[38;5;124m\"\u001b[39m\u001b[38;5;124mFinal Hypothesis:\u001b[39m\u001b[38;5;124m\"\u001b[39m, final_hypothesis)\n",
      "Cell \u001b[1;32mIn[14], line 7\u001b[0m, in \u001b[0;36mfind_s\u001b[1;34m(dataset)\u001b[0m\n\u001b[0;32m      5\u001b[0m \u001b[38;5;66;03m# Check if any positive examples exist\u001b[39;00m\n\u001b[0;32m      6\u001b[0m \u001b[38;5;28;01mif\u001b[39;00m \u001b[38;5;28mlen\u001b[39m(positive_examples) \u001b[38;5;241m==\u001b[39m \u001b[38;5;241m0\u001b[39m:\n\u001b[1;32m----> 7\u001b[0m     \u001b[38;5;28;01mraise\u001b[39;00m \u001b[38;5;167;01mValueError\u001b[39;00m(\u001b[38;5;124m\"\u001b[39m\u001b[38;5;124mNo positive examples found. Check dataset filtering.\u001b[39m\u001b[38;5;124m\"\u001b[39m)\n\u001b[0;32m      9\u001b[0m \u001b[38;5;66;03m# Initialize hypothesis with the first positive example\u001b[39;00m\n\u001b[0;32m     10\u001b[0m hypothesis \u001b[38;5;241m=\u001b[39m np\u001b[38;5;241m.\u001b[39marray(positive_examples[\u001b[38;5;241m0\u001b[39m])\n",
      "\u001b[1;31mValueError\u001b[0m: No positive examples found. Check dataset filtering."
     ]
    }
   ],
   "source": [
    "# Run Find-S\n",
    "final_hypothesis = find_s(df)\n",
    "\n",
    "# Print Final Hypothesis\n",
    "print(\"Final Hypothesis:\", final_hypothesis)\n"
   ]
  },
  {
   "cell_type": "code",
   "execution_count": null,
   "metadata": {},
   "outputs": [],
   "source": []
  }
 ],
 "metadata": {
  "kernelspec": {
   "display_name": "venv",
   "language": "python",
   "name": "python3"
  },
  "language_info": {
   "codemirror_mode": {
    "name": "ipython",
    "version": 3
   },
   "file_extension": ".py",
   "mimetype": "text/x-python",
   "name": "python",
   "nbconvert_exporter": "python",
   "pygments_lexer": "ipython3",
   "version": "3.12.5"
  }
 },
 "nbformat": 4,
 "nbformat_minor": 2
}
